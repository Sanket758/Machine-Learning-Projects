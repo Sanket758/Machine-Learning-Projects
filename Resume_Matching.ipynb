{
  "nbformat": 4,
  "nbformat_minor": 0,
  "metadata": {
    "colab": {
      "name": "Resume Matching.ipynb",
      "provenance": [],
      "authorship_tag": "ABX9TyOGabpP2HFTDN3dfaLPskIK",
      "include_colab_link": true
    },
    "kernelspec": {
      "name": "python3",
      "display_name": "Python 3"
    }
  },
  "cells": [
    {
      "cell_type": "markdown",
      "metadata": {
        "id": "view-in-github",
        "colab_type": "text"
      },
      "source": [
        "<a href=\"https://colab.research.google.com/github/Sanket758/Machine-Learning-Projects/blob/master/Resume_Matching.ipynb\" target=\"_parent\"><img src=\"https://colab.research.google.com/assets/colab-badge.svg\" alt=\"Open In Colab\"/></a>"
      ]
    },
    {
      "cell_type": "markdown",
      "metadata": {
        "id": "L6mDMO4W2iYM",
        "colab_type": "text"
      },
      "source": [
        "# Description: In this project i am gonna check if any resume matches to the job description and as a the final output it will give you a percentage which shows how much a resume matches to the job description."
      ]
    },
    {
      "cell_type": "code",
      "metadata": {
        "id": "ckSuj94GNj98",
        "colab_type": "code",
        "colab": {}
      },
      "source": [
        "#pip install docx2txt"
      ],
      "execution_count": null,
      "outputs": []
    },
    {
      "cell_type": "code",
      "metadata": {
        "id": "hm7UmfLhNslB",
        "colab_type": "code",
        "colab": {}
      },
      "source": [
        "#imports\n",
        "import docx2txt"
      ],
      "execution_count": 2,
      "outputs": []
    },
    {
      "cell_type": "code",
      "metadata": {
        "id": "xJYVwlifN2eU",
        "colab_type": "code",
        "colab": {
          "resources": {
            "http://localhost:8080/nbextensions/google.colab/files.js": {
              "data": "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",
              "ok": true,
              "headers": [
                [
                  "content-type",
                  "application/javascript"
                ]
              ],
              "status": 200,
              "status_text": ""
            }
          },
          "base_uri": "https://localhost:8080/",
          "height": 106
        },
        "outputId": "cf0807c1-b89b-4010-a65e-085f77658bd6"
      },
      "source": [
        "#load data\n",
        "from google.colab import files\n",
        "uploaded = files.upload()                                             "
      ],
      "execution_count": 35,
      "outputs": [
        {
          "output_type": "display_data",
          "data": {
            "text/html": [
              "\n",
              "     <input type=\"file\" id=\"files-05c091da-508c-4d4d-9737-101a3e40cd83\" name=\"files[]\" multiple disabled\n",
              "        style=\"border:none\" />\n",
              "     <output id=\"result-05c091da-508c-4d4d-9737-101a3e40cd83\">\n",
              "      Upload widget is only available when the cell has been executed in the\n",
              "      current browser session. Please rerun this cell to enable.\n",
              "      </output>\n",
              "      <script src=\"/nbextensions/google.colab/files.js\"></script> "
            ],
            "text/plain": [
              "<IPython.core.display.HTML object>"
            ]
          },
          "metadata": {
            "tags": []
          }
        },
        {
          "output_type": "stream",
          "text": [
            "Saving job_desc.docx to job_desc (2).docx\n",
            "Saving Resume.docx to Resume (2).docx\n"
          ],
          "name": "stdout"
        }
      ]
    },
    {
      "cell_type": "code",
      "metadata": {
        "id": "J9p1PGxMuZ5t",
        "colab_type": "code",
        "colab": {
          "base_uri": "https://localhost:8080/",
          "height": 1000
        },
        "outputId": "81be718e-b2bb-4811-8ae0-fa37e8f2d85d"
      },
      "source": [
        "#Store the resume in a variable\n",
        "resume = docx2txt.process('Resume.docx')\n",
        "print(resume)"
      ],
      "execution_count": 36,
      "outputs": [
        {
          "output_type": "stream",
          "text": [
            "Sanket Sadashiv Gadge\n",
            "\n",
            "Vitawa, Thane   | gadgesanket75@gmail.com  |  +91 7977491939\n",
            "\n",
            "\n",
            "\n",
            "\n",
            "\n",
            "Career Objective:\n",
            "\n",
            "\n",
            "\n",
            "To be part of an industrialization team, sharing its Vision, Mission and Value. To grow and prosper with the company which encourages new skill acquisition and personal development.\n",
            "\n",
            "\n",
            "\n",
            "Educational Qualification:\n",
            "\n",
            "\n",
            "\n",
            "University of Mumbai - BE in Computer Engineering \t\n",
            "\n",
            "Avg. CGPA: 6.75\t\tAug 2017 - Est. May 2020 \n",
            "\n",
            "Maharashtra State Board of Technical Education - Diploma in Computer Engineering  \t\t\n",
            "\n",
            "Percentage: 77.20%\t\tAug 2014 - Jun 2017\n",
            "\n",
            "Maharashtra State Board - SSC\t\t\t\t\n",
            "\n",
            "Percentage: 86.20%\t\tJun 2013 - Jun 2014\n",
            "\n",
            "\n",
            "\n",
            "Technical Skills:\n",
            "\n",
            "\n",
            "\n",
            "Programming Languages\t: C++, Java, Python\n",
            "\n",
            "\t\t\t\t\t\tDatabase \t\t\t\t: MySQL\n",
            "\n",
            "\t\t\t\t\t\tWeb Technology\t\t\t: HTML, JSON \n",
            "\n",
            "\t\t\t\t\t\tTools & IDE \t\t\t\t: Eclipse, Pycharm, Atom, MySQL workbench, TableAU, \t\t\t\t\t\t   Anaconda, Jupyter Notebook, \n",
            "\n",
            "\t\t\t\t\t\tVersion Control\t\t\t: Git\n",
            "\n",
            "Operating system \t\t: Windows, Linux (Ubuntu/CentOS)\n",
            "\n",
            "\n",
            "\n",
            "\tAcademic Projects:\n",
            "\n",
            "\n",
            "\n",
            "\tPersonal Virtual Assistant using Raspberry Pi\t\t   \n",
            "\n",
            "\t\n",
            "\n",
            "This was a final project done by me. It was based on speech recognition and synthesis. Like google now or apple's siri, we built a system which was more advanced than competitors and also comparitively cheaper to have. The project was called jarvis in which we had a Raspberry pi as a heart of the system which was basic hardware for the development. on raspberry pi we had created python scripts which does all work , like if we ask \"who is president of india?” it used to answer us the name. \n",
            "\n",
            "The biggest challange while doing such project was the noise cancellation, as our model used to work based on speech inputs, sometimes it used to give false outputs while 2 people are talking at once, it couldn’t understand if someone is talking to it or not.\n",
            "\n",
            "Technologies used: Python 3.6, Pyaudio, PortAudio, WolfraAlpha API, Google speech-to-text and text-to-speech\n",
            "\n",
            "\n",
            "\n",
            "Naruto - Game\t     \t\t\t           \t               \n",
            "\n",
            "This is a simple command line based game.\n",
            "\n",
            "There are 3 characters, you can choose one, then we have 3 enemies, you will get list of choices on command line you can choose any of them. The choice include attacking, using magic spell, using healing spells, using items like grenades.\n",
            "\n",
            "Its a pretty straight forward approach for making a game, there are no levels though, i will add it someday. \n",
            "\n",
            "Technologies used:  Python 3.6, Pycharm, Conda, VirtualEnv \n",
            "\n",
            "\n",
            "\n",
            "Attendance System Using Face Recognition (Open-CV and Machine Learning)\n",
            "\n",
            "\n",
            "\n",
            "\tThe objective of this project is to implement a model that will classify pictures of student and mark their attendance just by scanning the classroom. \n",
            "\n",
            "\tThe app has a GUI based interface with several options to add new faces to the database, admin can add new faces by filling some information like ID, Name etc, then around 60 images of that are taken and then comes the machine learning stuff, the model is then trained on these images and features are stored in database. Then when next time that face is scan it adds and entry to the attendance sheet for that face using the ID provided.\n",
            "\n",
            "\tThe biggest challenge while doing this project was face recognition, sometimes the model we created used to mark someone else’s attendance because of similarities in their faces.\n",
            "\n",
            "\tTechnologies used: Tkinter, TensorFlow, Python, Pycharm, Open-CV\n",
            "\n",
            "\t\n",
            "\n",
            "Training and Seminar:\n",
            "\n",
            "\n",
            "\n",
            "\t4 Weeks training at study league IT solutions.\n",
            "\n",
            "\t\n",
            "\n",
            "\t Worked with a programming language called python\n",
            "\n",
            "\t Used to do web scraping\n",
            "\n",
            "\t Created an windows based system monitoring application.\n",
            "\n",
            "\t\n",
            "\n",
            "\tData Sciene using Python (ongoing)\n",
            "\n",
            "\t\n",
            "\n",
            "\t Did analysis on anime dataset (Source: Kaggle)\n",
            "\n",
            "\t Using pivot tables and charts created a Dashboard and presentation for the anime recommendation system.\n",
            "\n",
            "\t Using MySQL workbench, analysed sakila database.\n",
            "\n",
            "Hobbies and Interest: \n",
            "\n",
            "\n",
            "\n",
            "Python\n",
            "\n",
            "Machine Learning / IOT\n",
            "\n",
            "Rap Music\n",
            "\n",
            "Anime \n",
            "\n",
            "Personal Details:\n",
            "\n",
            "\n",
            "\n",
            "Date of Birth\t: 02 September, 1998\n",
            "\n",
            "Marital Status\t: Single\n",
            "\n",
            "Language known\t: English, Marathi, Hindi \n",
            "\n",
            "Nationality\t\t: Indian\n",
            "\n",
            "\n",
            "\n",
            "Declaration:\n",
            "\n",
            "\n",
            "\n",
            "I hereby declare that the above-mentioned information is correct up to my knowledge and I bear the responsibility.\n"
          ],
          "name": "stdout"
        }
      ]
    },
    {
      "cell_type": "code",
      "metadata": {
        "id": "Gw040ilfuvII",
        "colab_type": "code",
        "colab": {
          "base_uri": "https://localhost:8080/",
          "height": 1000
        },
        "outputId": "3772eec1-5ec3-4455-c930-e878f77187fc"
      },
      "source": [
        "#Store the job description in a variable\n",
        "job_desc = docx2txt.process('job_desc.docx')\n",
        "print(job_desc)"
      ],
      "execution_count": 37,
      "outputs": [
        {
          "output_type": "stream",
          "text": [
            "Company Introduction\n",
            "\n",
            "\n",
            "\n",
            "{{Write a short and catchy paragraph about your company. Make sure to provide information about the company’s culture, perks, and benefits. Mention office hours, remote working possibilities, and everything else you think of that makes your company interesting.}}\n",
            "\n",
            "\n",
            "\n",
            "Job Description\n",
            "\n",
            "\n",
            "\n",
            "We are looking for a Python Web Developer responsible for managing the interchange of data between the server and the users. Your primary focus will be the development of all server-side logic, ensuring high performance and responsiveness to requests from the front-end. You will also be responsible for integrating the front-end elements built by your co-workers into the application; therefore, a basic understanding of front-end technologies is necessary as well.\n",
            "\n",
            "\n",
            "\n",
            "Responsibilities\n",
            "\n",
            "\n",
            "\n",
            "- Writing reusable, testable, and efficient code\n",
            "\n",
            "- Design and implementation of low-latency, high-availability, and performant applications\n",
            "\n",
            "- Integration of user-facing elements developed by front-end developers with server side logic\n",
            "\n",
            "- Implementation of security and data protection\n",
            "\n",
            "- Integration of data storage solutions {{may include databases, key-value stores, blob stores, etc.}}\n",
            "\n",
            "- {{Add other responsibilities here that are relevant}}\n",
            "\n",
            "\n",
            "\n",
            "Skills And Qualifications\n",
            "\n",
            "\n",
            "\n",
            "- Expert in Python, with knowledge of at least one Python web framework {{such as Django, Flask, etc depending on your technology stack}}\n",
            "\n",
            "- Familiarity with some ORM (Object Relational Mapper) libraries\n",
            "\n",
            "- Able to integrate multiple data sources and databases into one system\n",
            "\n",
            "- Understanding of the threading limitations of Python, and multi-process architecture\n",
            "\n",
            "- Good understanding of server-side templating languages {{such as Jinja 2, Mako, etc depending on your technology stack}}\n",
            "\n",
            "- Basic understanding of front-end technologies, such as JavaScript, HTML5, and CSS3\n",
            "\n",
            "- Understanding of accessibility and security compliance {{depending on the specific project}}\n",
            "\n",
            "- Knowledge of user authentication and authorization between multiple systems, servers, and environments\n",
            "\n",
            "- Understanding of fundamental design principles behind a scalable application\n",
            "\n",
            "- Familiarity with event-driven programming in Python\n",
            "\n",
            "- Understanding of the differences between multiple delivery platforms, such as mobile vs desktop, and optimizing output to match the specific platform\n",
            "\n",
            "- Able to create database schemas that represent and support business processes\n",
            "\n",
            "- Strong unit test and debugging skills\n",
            "\n",
            "- Proficient understanding of code versioning tools {{such as Git, Mercurial or SVN}}\n",
            "\n",
            "- {{Make sure to mention other frameworks, libraries, or any other technology related to your development stack}}\n",
            "\n",
            "- {{List education level or certification you require}}\n"
          ],
          "name": "stdout"
        }
      ]
    },
    {
      "cell_type": "code",
      "metadata": {
        "id": "kHiAPHV6vBKa",
        "colab_type": "code",
        "colab": {}
      },
      "source": [
        "# Creating a text corpus\n",
        "text = [resume, job_desc]"
      ],
      "execution_count": 38,
      "outputs": []
    },
    {
      "cell_type": "code",
      "metadata": {
        "id": "HK7khhA0vOtx",
        "colab_type": "code",
        "colab": {}
      },
      "source": [
        "# To get the count of each word\n",
        "from sklearn.feature_extraction.text import CountVectorizer\n",
        "cv = CountVectorizer()\n",
        "Count_matrix = cv.fit_transform(text)"
      ],
      "execution_count": 39,
      "outputs": []
    },
    {
      "cell_type": "code",
      "metadata": {
        "id": "29vESv4NwXza",
        "colab_type": "code",
        "colab": {
          "base_uri": "https://localhost:8080/",
          "height": 51
        },
        "outputId": "d8d45f77-499a-4b36-a8f1-df4bfc03f091"
      },
      "source": [
        "Count_matrix"
      ],
      "execution_count": 40,
      "outputs": [
        {
          "output_type": "execute_result",
          "data": {
            "text/plain": [
              "<2x492 sparse matrix of type '<class 'numpy.int64'>'\n",
              "\twith 546 stored elements in Compressed Sparse Row format>"
            ]
          },
          "metadata": {
            "tags": []
          },
          "execution_count": 40
        }
      ]
    },
    {
      "cell_type": "code",
      "metadata": {
        "id": "vNaYFLc_vhh8",
        "colab_type": "code",
        "colab": {}
      },
      "source": [
        "# Importing cosine similarity function\n",
        "from sklearn.metrics.pairwise import cosine_similarity "
      ],
      "execution_count": 41,
      "outputs": []
    },
    {
      "cell_type": "code",
      "metadata": {
        "id": "eZLp6Ueavva9",
        "colab_type": "code",
        "colab": {
          "base_uri": "https://localhost:8080/",
          "height": 51
        },
        "outputId": "0022910b-33d8-4485-9c9a-37afd28dbf43"
      },
      "source": [
        "print(cosine_similarity(Count_matrix))"
      ],
      "execution_count": 42,
      "outputs": [
        {
          "output_type": "stream",
          "text": [
            "[[1.        0.5685278]\n",
            " [0.5685278 1.       ]]\n"
          ],
          "name": "stdout"
        }
      ]
    },
    {
      "cell_type": "code",
      "metadata": {
        "id": "YdKga6mbv0R1",
        "colab_type": "code",
        "colab": {
          "base_uri": "https://localhost:8080/",
          "height": 34
        },
        "outputId": "93d05db5-2bc3-43bd-c09f-acff7064c605"
      },
      "source": [
        "# get the match percentage\n",
        "matchPercentage = cosine_similarity(Count_matrix)[0][1] * 100\n",
        "matchPercentage = round(matchPercentage, 2)\n",
        "print(matchPercentage)"
      ],
      "execution_count": 43,
      "outputs": [
        {
          "output_type": "stream",
          "text": [
            "56.85\n"
          ],
          "name": "stdout"
        }
      ]
    }
  ]
}